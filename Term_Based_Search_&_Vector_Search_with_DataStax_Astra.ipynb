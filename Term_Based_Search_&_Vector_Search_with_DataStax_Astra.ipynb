{
  "nbformat": 4,
  "nbformat_minor": 0,
  "metadata": {
    "colab": {
      "provenance": [],
      "include_colab_link": true
    },
    "kernelspec": {
      "name": "python3",
      "display_name": "Python 3"
    },
    "language_info": {
      "name": "python"
    }
  },
  "cells": [
    {
      "cell_type": "markdown",
      "metadata": {
        "id": "view-in-github",
        "colab_type": "text"
      },
      "source": [
        "<a href=\"https://colab.research.google.com/github/krishnannarayanaswamy/GenAI-Relevance-LLM-demo/blob/main/Term_Based_Search_%26_Vector_Search_with_DataStax_Astra.ipynb\" target=\"_parent\"><img src=\"https://colab.research.google.com/assets/colab-badge.svg\" alt=\"Open In Colab\"/></a>"
      ]
    },
    {
      "cell_type": "code",
      "source": [
        "pip install cassandra-driver openai"
      ],
      "metadata": {
        "id": "DkLWKcpie050",
        "colab": {
          "base_uri": "https://localhost:8080/"
        },
        "outputId": "769223d6-86c6-445c-8d18-bcc7f0dfdec0"
      },
      "execution_count": null,
      "outputs": [
        {
          "output_type": "stream",
          "name": "stdout",
          "text": [
            "Collecting cassandra-driver\n",
            "  Downloading cassandra_driver-3.28.0-cp310-cp310-manylinux_2_17_x86_64.manylinux2014_x86_64.whl (19.1 MB)\n",
            "\u001b[2K     \u001b[90m━━━━━━━━━━━━━━━━━━━━━━━━━━━━━━━━━━━━━━━━\u001b[0m \u001b[32m19.1/19.1 MB\u001b[0m \u001b[31m44.3 MB/s\u001b[0m eta \u001b[36m0:00:00\u001b[0m\n",
            "\u001b[?25hCollecting openai\n",
            "  Downloading openai-0.28.1-py3-none-any.whl (76 kB)\n",
            "\u001b[2K     \u001b[90m━━━━━━━━━━━━━━━━━━━━━━━━━━━━━━━━━━━━━━━━\u001b[0m \u001b[32m77.0/77.0 kB\u001b[0m \u001b[31m9.3 MB/s\u001b[0m eta \u001b[36m0:00:00\u001b[0m\n",
            "\u001b[?25hRequirement already satisfied: six>=1.9 in /usr/local/lib/python3.10/dist-packages (from cassandra-driver) (1.16.0)\n",
            "Collecting geomet<0.3,>=0.1 (from cassandra-driver)\n",
            "  Downloading geomet-0.2.1.post1-py3-none-any.whl (18 kB)\n",
            "Requirement already satisfied: requests>=2.20 in /usr/local/lib/python3.10/dist-packages (from openai) (2.31.0)\n",
            "Requirement already satisfied: tqdm in /usr/local/lib/python3.10/dist-packages (from openai) (4.66.1)\n",
            "Requirement already satisfied: aiohttp in /usr/local/lib/python3.10/dist-packages (from openai) (3.8.5)\n",
            "Requirement already satisfied: click in /usr/local/lib/python3.10/dist-packages (from geomet<0.3,>=0.1->cassandra-driver) (8.1.7)\n",
            "Requirement already satisfied: charset-normalizer<4,>=2 in /usr/local/lib/python3.10/dist-packages (from requests>=2.20->openai) (3.2.0)\n",
            "Requirement already satisfied: idna<4,>=2.5 in /usr/local/lib/python3.10/dist-packages (from requests>=2.20->openai) (3.4)\n",
            "Requirement already satisfied: urllib3<3,>=1.21.1 in /usr/local/lib/python3.10/dist-packages (from requests>=2.20->openai) (2.0.4)\n",
            "Requirement already satisfied: certifi>=2017.4.17 in /usr/local/lib/python3.10/dist-packages (from requests>=2.20->openai) (2023.7.22)\n",
            "Requirement already satisfied: attrs>=17.3.0 in /usr/local/lib/python3.10/dist-packages (from aiohttp->openai) (23.1.0)\n",
            "Requirement already satisfied: multidict<7.0,>=4.5 in /usr/local/lib/python3.10/dist-packages (from aiohttp->openai) (6.0.4)\n",
            "Requirement already satisfied: async-timeout<5.0,>=4.0.0a3 in /usr/local/lib/python3.10/dist-packages (from aiohttp->openai) (4.0.3)\n",
            "Requirement already satisfied: yarl<2.0,>=1.0 in /usr/local/lib/python3.10/dist-packages (from aiohttp->openai) (1.9.2)\n",
            "Requirement already satisfied: frozenlist>=1.1.1 in /usr/local/lib/python3.10/dist-packages (from aiohttp->openai) (1.4.0)\n",
            "Requirement already satisfied: aiosignal>=1.1.2 in /usr/local/lib/python3.10/dist-packages (from aiohttp->openai) (1.3.1)\n",
            "Installing collected packages: geomet, cassandra-driver, openai\n",
            "Successfully installed cassandra-driver-3.28.0 geomet-0.2.1.post1 openai-0.28.1\n"
          ]
        }
      ]
    },
    {
      "cell_type": "code",
      "execution_count": null,
      "metadata": {
        "id": "5wxBKLrzdvPp"
      },
      "outputs": [],
      "source": [
        "OPENAI_API_KEY=\n",
        "ASTRA_DB_SECURE_BUNDLE_PATH=\n",
        "ASTRA_DB_CLIENT_ID=\n",
        "ASTRA_DB_CLIENT_SECRET=\n",
        "ASTRA_DB_APPLICATION_TOKEN=\n",
        "ASTRA_DB_KEYSPACE=\n",
        "ASTRA_DB_ID=\n",
        "ASTRA_DB_REGION="
      ]
    },
    {
      "cell_type": "code",
      "source": [
        "# Astra Connection (Based on cqlsession, from cassio library)\n",
        "import os\n",
        "from cassandra.cluster import (\n",
        "    Cluster,\n",
        ")\n",
        "from cassandra.auth import PlainTextAuthProvider\n",
        "from cassandra.query import dict_factory\n",
        "\n",
        "def getCQLSession(mode='astra_db'):\n",
        "    print('Initializing CQL Session')\n",
        "    if mode == 'astra_db':\n",
        "        cluster = Cluster(\n",
        "            cloud={\n",
        "                \"secure_connect_bundle\": ASTRA_DB_SECURE_BUNDLE_PATH,\n",
        "            },\n",
        "            auth_provider=PlainTextAuthProvider(\n",
        "                ASTRA_DB_CLIENT_ID,\n",
        "                ASTRA_DB_CLIENT_SECRET,\n",
        "            ),\n",
        "        )\n",
        "        astraSession = cluster.connect()\n",
        "        astraSession.row_factory = dict_factory\n",
        "        print('Connected')\n",
        "        return astraSession\n",
        "    elif mode == 'local':\n",
        "        cluster = Cluster()\n",
        "        localSession = cluster.connect()\n",
        "        return localSession\n",
        "    else:\n",
        "        raise ValueError('Unknown CQL Session mode')\n",
        "\n",
        "def getCQLKeyspace(mode='astra_db'):\n",
        "    return ASTRA_DB_KEYSPACE\n"
      ],
      "metadata": {
        "id": "uyPyb4Zmd3pN"
      },
      "execution_count": null,
      "outputs": []
    },
    {
      "cell_type": "code",
      "source": [
        "# Open the cennection with Astra\n",
        "session = getCQLSession()"
      ],
      "metadata": {
        "id": "hNsAeevKd5jr",
        "colab": {
          "base_uri": "https://localhost:8080/"
        },
        "outputId": "c419cb4a-8818-47b5-9674-814722a05690"
      },
      "execution_count": null,
      "outputs": [
        {
          "output_type": "stream",
          "name": "stdout",
          "text": [
            "Initializing CQL Session\n"
          ]
        },
        {
          "output_type": "stream",
          "name": "stderr",
          "text": [
            "WARNING:cassandra.cluster:Downgrading core protocol version from 66 to 65 for 168ca433-d1dd-4e62-a907-f68b79b2c042-ap-south-1.db.astra.datastax.com:29042:914a1012-1ca7-469b-bb97-30bfcd46efad. To avoid this, it is best practice to explicitly set Cluster(protocol_version) to the version supported by your cluster. http://datastax.github.io/python-driver/api/cassandra/cluster.html#cassandra.cluster.Cluster.protocol_version\n",
            "WARNING:cassandra.cluster:Downgrading core protocol version from 65 to 5 for 168ca433-d1dd-4e62-a907-f68b79b2c042-ap-south-1.db.astra.datastax.com:29042:914a1012-1ca7-469b-bb97-30bfcd46efad. To avoid this, it is best practice to explicitly set Cluster(protocol_version) to the version supported by your cluster. http://datastax.github.io/python-driver/api/cassandra/cluster.html#cassandra.cluster.Cluster.protocol_version\n",
            "ERROR:cassandra.connection:Closing connection <AsyncoreConnection(138531249566384) 168ca433-d1dd-4e62-a907-f68b79b2c042-ap-south-1.db.astra.datastax.com:29042:914a1012-1ca7-469b-bb97-30bfcd46efad> due to protocol error: Error from server: code=000a [Protocol error] message=\"Beta version of the protocol used (5/v5-beta), but USE_BETA flag is unset\"\n",
            "WARNING:cassandra.cluster:Downgrading core protocol version from 5 to 4 for 168ca433-d1dd-4e62-a907-f68b79b2c042-ap-south-1.db.astra.datastax.com:29042:914a1012-1ca7-469b-bb97-30bfcd46efad. To avoid this, it is best practice to explicitly set Cluster(protocol_version) to the version supported by your cluster. http://datastax.github.io/python-driver/api/cassandra/cluster.html#cassandra.cluster.Cluster.protocol_version\n"
          ]
        },
        {
          "output_type": "stream",
          "name": "stdout",
          "text": [
            "Connected\n"
          ]
        }
      ]
    },
    {
      "cell_type": "code",
      "source": [
        "keyspace = ASTRA_DB_KEYSPACE\n",
        "table_user = \"tbl_users\"\n",
        "table_post = \"tbl_post\""
      ],
      "metadata": {
        "id": "Dy_zdz4Mew1t"
      },
      "execution_count": null,
      "outputs": []
    },
    {
      "cell_type": "code",
      "source": [
        "# More functions used on the code\n",
        "import openai\n",
        "openai.api_key = OPENAI_API_KEY\n",
        "def generate_embedding(text):\n",
        "    model = \"text-embedding-ada-002\"\n",
        "    response = openai.Embedding.create(model=model, input=text)\n",
        "    return response.data[0]['embedding']"
      ],
      "metadata": {
        "id": "U_RsMY1sOBnA"
      },
      "execution_count": null,
      "outputs": []
    },
    {
      "cell_type": "code",
      "source": [
        "    #query english embeddings with english prompt\n",
        "from cassandra.query import SimpleStatement\n",
        "import pandas as pd\n",
        "import numpy as np\n",
        "\n",
        "query = SimpleStatement(\n",
        "    f\"\"\"\n",
        "    SELECT user_id, username, fullname\n",
        "    FROM {keyspace}.{table_user}\n",
        "    where fullname : 'Sangita' or username : 'Sangita'\n",
        "    \"\"\"\n",
        "    )\n",
        "\n",
        "results = session.execute(query)\n",
        "\n",
        "top_products = results._current_rows\n",
        "for row in top_products:\n",
        "  print(f\"\"\"{row[\"user_id\"]}, {row[\"fullname\"]}, {row[\"username\"]}\\n\"\"\")"
      ],
      "metadata": {
        "colab": {
          "base_uri": "https://localhost:8080/"
        },
        "id": "xz65ojaHOVNk",
        "outputId": "28e90938-3271-45fd-cac3-aff54ea73280"
      },
      "execution_count": null,
      "outputs": [
        {
          "output_type": "stream",
          "name": "stdout",
          "text": [
            "e2a6efaf-55f5-419a-91a2-82bdf7f20564, Sangita Devi, sd920671\n",
            "\n",
            "dca92e26-c593-4417-916b-a6405d4b296d, Sangita Panwar, sangitapanwar150\n",
            "\n",
            "54f5bfa8-1c9e-42c2-8d4f-59173f4ed128, Sangita Modak, sangitamodak2002\n",
            "\n",
            "565e41e9-23ad-4107-9056-96903820145a, Sangita Dutta, sangitadutta98320\n",
            "\n",
            "8c19ec2c-a4bb-4159-a65b-19ca77173469, Sangita lokhande, lokhandesangita123\n",
            "\n",
            "d1147c7b-1053-4408-a2b5-eb49d41aa848, Sangita Chopra, sangitanoni\n",
            "\n"
          ]
        }
      ]
    },
    {
      "cell_type": "code",
      "source": [
        "#query english embeddings with english prompt\n",
        "from cassandra.query import SimpleStatement\n",
        "import pandas as pd\n",
        "import numpy as np\n",
        "\n",
        "keyword = \"reelstar\"\n",
        "embedding = generate_embedding(keyword)\n",
        "\n",
        "query = SimpleStatement(\n",
        "    f\"\"\"\n",
        "    SELECT post_id, description\n",
        "    FROM {keyspace}.{table_post}\n",
        "    ORDER BY openai_embedding ANN OF {embedding}\n",
        "    LIMIT 10\"\"\"\n",
        "    )\n",
        "\n",
        "results = session.execute(query)\n",
        "\n",
        "top_products = results._current_rows\n",
        "for row in top_products:\n",
        "  print(f\"\"\"{row[\"post_id\"]}, {row[\"description\"]}\\n\"\"\")"
      ],
      "metadata": {
        "colab": {
          "base_uri": "https://localhost:8080/"
        },
        "id": "e4F7GGNLNulB",
        "outputId": "ec0c4b22-209d-40fc-f089-4e3e4b7c0c64"
      },
      "execution_count": null,
      "outputs": [
        {
          "output_type": "stream",
          "name": "stdout",
          "text": [
            "181afa04-2f80-4f9f-b1f2-02f98c565964, Reelstar\n",
            "\n",
            "9596a3cb-5cb7-4d39-8ef5-49950b942454, Reelstar\n",
            "\n",
            "462dc6e5-cc90-40b8-8011-c654d5dd4e9c, ReelStar\n",
            "\n",
            "675d36e8-c353-4a85-b934-f59791214a2e, ReelStar\n",
            "\n",
            "36d51a7d-8f17-48ec-ae41-2f91b0c4b1d1, reel star\n",
            "\n",
            "3867bf34-8adc-4c5d-a6c8-5e1d8e8ba9eb, reel star\n",
            "\n",
            "96f1ebdf-2e83-468c-9bf7-99d766cd4cd9, reel star\n",
            "\n",
            "f34b7f62-3564-4430-9603-765b9ef4186d, reel star\n",
            "\n",
            "60e0a2a7-0ff4-462f-908b-a5e5b0c24671, @reelstar\n",
            "\n",
            "26395517-1a1e-4c29-a3b2-c58b7588ccde, Reelstar#reelstar\n",
            "\n"
          ]
        }
      ]
    }
  ]
}